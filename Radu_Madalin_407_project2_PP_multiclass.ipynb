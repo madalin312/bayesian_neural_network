{
 "cells": [
  {
   "cell_type": "code",
   "execution_count": 93,
   "id": "78230900",
   "metadata": {},
   "outputs": [],
   "source": [
    "using Flux, Images, MLDatasets, Plots, RDatasets\n",
    "\n",
    "using Flux: crossentropy, onecold, onehotbatch, params\n",
    "\n",
    "using Random, Statistics, Distributions\n",
    "\n",
    "using Turing, FillArrays, ReverseDiff, LinearAlgebra\n",
    "\n",
    "using Gen\n",
    "\n",
    "using DataFrames\n",
    "\n",
    "using MLLabelUtils"
   ]
  },
  {
   "cell_type": "code",
   "execution_count": 94,
   "id": "40bf4f55",
   "metadata": {},
   "outputs": [
    {
     "data": {
      "text/plain": [
       "TaskLocalRNG()"
      ]
     },
     "execution_count": 94,
     "metadata": {},
     "output_type": "execute_result"
    }
   ],
   "source": [
    "Random.seed!(5)"
   ]
  },
  {
   "cell_type": "code",
   "execution_count": 95,
   "id": "29cbf685",
   "metadata": {},
   "outputs": [
    {
     "data": {
      "text/plain": [
       "onehot_number (generic function with 1 method)"
      ]
     },
     "execution_count": 95,
     "metadata": {},
     "output_type": "execute_result"
    }
   ],
   "source": [
    "function split(X, y::AbstractVector; dims=1, ratio_train=0.8, kwargs...)\n",
    "    n = length(y)\n",
    "    size(X, dims) == n || throw(DimensionMismatch(\"...\"))\n",
    "\n",
    "    n_train = round(Int, ratio_train*n)\n",
    "    i_rand = randperm(n)\n",
    "    i_train = i_rand[1:n_train]\n",
    "    i_test = i_rand[n_train+1:end]\n",
    "\n",
    "    return selectdim(X, dims, i_train), y[i_train], selectdim(X, dims, i_test), y[i_test]\n",
    "end\n",
    "\n",
    "function onehot(y, classes)\n",
    "    y_onehot = falses(length(classes), length(y))\n",
    "    for (i, class) in enumerate(classes)\n",
    "        y_onehot[i, y .== class] .= 1\n",
    "    end\n",
    "    return y_onehot\n",
    "end\n",
    "\n",
    "function prepare_data(X, y; do_normal=true, do_onehot=true, kwargs...)\n",
    "    X_train, y_train, X_test, y_test = split(X, y; kwargs...)\n",
    "\n",
    "    if do_normal\n",
    "        X_train, X_test = normalize(X_train, X_test; kwargs...)\n",
    "    end\n",
    "\n",
    "    classes = unique(y)\n",
    "\n",
    "    if do_onehot\n",
    "        y_train = onehot(y_train, classes)\n",
    "        y_test = onehot(y_test, classes)\n",
    "    end\n",
    "\n",
    "    return X_train, y_train, X_test, y_test, classes\n",
    "end\n",
    "\n",
    "function onehot_number(number, classes)\n",
    "    return classes .== number\n",
    "end"
   ]
  },
  {
   "cell_type": "code",
   "execution_count": 217,
   "id": "f4e28c70",
   "metadata": {},
   "outputs": [
    {
     "data": {
      "text/plain": [
       "([5.9 6.5 … 5.8 5.2; 3.0 2.8 … 2.7 3.4; 4.2 4.6 … 5.1 1.4; 1.5 1.5 … 1.9 0.2], CategoricalArrays.CategoricalValue{String, UInt8}[\"versicolor\", \"versicolor\", \"virginica\", \"setosa\", \"setosa\", \"versicolor\", \"versicolor\", \"setosa\", \"versicolor\", \"versicolor\"  …  \"versicolor\", \"setosa\", \"versicolor\", \"versicolor\", \"versicolor\", \"setosa\", \"setosa\", \"setosa\", \"virginica\", \"setosa\"], [5.7 6.5 … 6.7 4.9; 2.6 3.0 … 3.1 3.1; 3.5 5.8 … 5.6 1.5; 1.0 2.2 … 2.4 0.2], CategoricalArrays.CategoricalValue{String, UInt8}[\"versicolor\", \"virginica\", \"setosa\", \"virginica\", \"setosa\", \"setosa\", \"virginica\", \"virginica\", \"virginica\", \"setosa\"  …  \"virginica\", \"virginica\", \"versicolor\", \"versicolor\", \"versicolor\", \"virginica\", \"versicolor\", \"setosa\", \"virginica\", \"setosa\"], [\"setosa\", \"versicolor\", \"virginica\"])"
      ]
     },
     "execution_count": 217,
     "metadata": {},
     "output_type": "execute_result"
    }
   ],
   "source": [
    "iris = dataset(\"datasets\", \"iris\")\n",
    "\n",
    "X = Matrix(iris[:, 1:4])\n",
    "y = iris.Species\n",
    "\n",
    "X_train, y_train, X_test, y_test, classes = prepare_data(X', y; do_onehot=false, do_normal=false, dims=2)"
   ]
  },
  {
   "cell_type": "code",
   "execution_count": 221,
   "id": "6bceba6e",
   "metadata": {},
   "outputs": [
    {
     "data": {
      "text/plain": [
       "120-element CategoricalArrays.CategoricalArray{String,1,UInt8}:\n",
       " \"versicolor\"\n",
       " \"versicolor\"\n",
       " \"virginica\"\n",
       " \"setosa\"\n",
       " \"setosa\"\n",
       " \"versicolor\"\n",
       " \"versicolor\"\n",
       " \"setosa\"\n",
       " \"versicolor\"\n",
       " \"versicolor\"\n",
       " \"virginica\"\n",
       " \"versicolor\"\n",
       " \"versicolor\"\n",
       " ⋮\n",
       " \"versicolor\"\n",
       " \"setosa\"\n",
       " \"versicolor\"\n",
       " \"setosa\"\n",
       " \"versicolor\"\n",
       " \"versicolor\"\n",
       " \"versicolor\"\n",
       " \"setosa\"\n",
       " \"setosa\"\n",
       " \"setosa\"\n",
       " \"virginica\"\n",
       " \"setosa\""
      ]
     },
     "execution_count": 221,
     "metadata": {},
     "output_type": "execute_result"
    }
   ],
   "source": [
    "y_train"
   ]
  },
  {
   "cell_type": "code",
   "execution_count": 131,
   "id": "97230d7d",
   "metadata": {},
   "outputs": [
    {
     "ename": "LoadError",
     "evalue": "KeyError: key 1 not found",
     "output_type": "error",
     "traceback": [
      "KeyError: key 1 not found",
      "",
      "Stacktrace:",
      " [1] getindex(h::Dict{Any, Any}, key::Int8)",
      "   @ Base .\\dict.jl:498",
      " [2] top-level scope",
      "   @ .\\In[131]:17"
     ]
    }
   ],
   "source": [
    "classes = unique(y)\n",
    "classes_numbers = [1,2,3]\n",
    "isequal(onecold(onehot(y, classes), classes), y)\n",
    "\n",
    "encoding = Dict()\n",
    "for (i, class) in enumerate(classes)\n",
    "    encoding[class] = i\n",
    "end\n",
    "\n",
    "y_encoded = Int8[]\n",
    "for class in y\n",
    "    push!(y_encoded,encoding[class])\n",
    "end\n",
    "\n",
    "y_train_encoded = Int8[]\n",
    "for class in y_train\n",
    "    push!(y_train_encoded,encoding[class])\n",
    "end\n",
    "\n",
    "y_test_encoded = Int8[]\n",
    "for class in y_test\n",
    "    push!(y_test_encoded,encoding[class])\n",
    "end\n",
    "\n",
    "y_train=y_train_encoded\n",
    "y_test=y_test_encoded;"
   ]
  },
  {
   "cell_type": "code",
   "execution_count": 82,
   "id": "fe1bd7db",
   "metadata": {},
   "outputs": [],
   "source": [
    "y_encoded = Int8[]\n",
    "for class in y\n",
    "    push!(y_encoded,encoding[class])\n",
    "end"
   ]
  },
  {
   "cell_type": "code",
   "execution_count": 99,
   "id": "4525374c",
   "metadata": {},
   "outputs": [
    {
     "data": {
      "text/plain": [
       "4×30 reshape(view(adjoint(::Matrix{Float64}), :, [85, 65, 50, 72, 22, 78, 110, 46, 48, 36  …  133, 145, 26, 126, 1, 54, 88, 68, 39, 77]), 4, 30) with eltype Float64:\n",
       " 5.4  5.6  5.0  6.1  5.1  6.7  7.2  4.8  …  7.2  5.1  5.5  6.3  5.8  4.4  6.8\n",
       " 3.0  2.9  3.3  2.8  3.7  3.0  3.6  3.0     3.2  3.5  2.3  2.3  2.7  3.0  2.8\n",
       " 4.5  3.6  1.4  4.0  1.5  5.0  6.1  1.4     6.0  1.4  4.0  4.4  4.1  1.3  4.8\n",
       " 1.5  1.3  0.2  1.3  0.4  1.7  2.5  0.3     1.8  0.2  1.3  1.3  1.0  0.2  1.4"
      ]
     },
     "execution_count": 99,
     "metadata": {},
     "output_type": "execute_result"
    }
   ],
   "source": [
    "# flatten input data\n",
    "\n",
    "X_train = Flux.flatten(X_train)\n",
    "\n",
    "X_test = Flux.flatten(X_test)"
   ]
  },
  {
   "cell_type": "code",
   "execution_count": 100,
   "id": "7936c282",
   "metadata": {},
   "outputs": [
    {
     "data": {
      "text/plain": [
       "Chain(\n",
       "  Dense(4 => 16, relu),                 \u001b[90m# 80 parameters\u001b[39m\n",
       "  Dense(16 => 3),                       \u001b[90m# 51 parameters\u001b[39m\n",
       "  NNlib.softmax,\n",
       ") \u001b[90m                  # Total: 4 arrays, \u001b[39m131 parameters, 780 bytes."
      ]
     },
     "execution_count": 100,
     "metadata": {},
     "output_type": "execute_result"
    }
   ],
   "source": [
    "#Network for multiclass classification\n",
    "nn_initial = Chain(\n",
    "    Dense(4, 16, relu),\n",
    "    Dense(16, 3),\n",
    "    softmax\n",
    ")"
   ]
  },
  {
   "cell_type": "code",
   "execution_count": 101,
   "id": "188871a1",
   "metadata": {},
   "outputs": [
    {
     "data": {
      "text/plain": [
       "131"
      ]
     },
     "execution_count": 101,
     "metadata": {},
     "output_type": "execute_result"
    }
   ],
   "source": [
    "###########################TESTING###################################\n",
    "\n",
    "# Extract weights and a helper function to reconstruct NN from weights\n",
    "parameters_initial, reconstruct = Flux.destructure(nn_initial)\n",
    "\n",
    "nb_param = length(parameters_initial) # number of paraemters in NN"
   ]
  },
  {
   "cell_type": "code",
   "execution_count": 102,
   "id": "a16924dd",
   "metadata": {},
   "outputs": [],
   "source": [
    "#nn_initial(X_train[:,1])\n",
    "#y_onehot = falses(length(classes))\n",
    "#y_onehot[y[1]] = y[1]"
   ]
  },
  {
   "cell_type": "code",
   "execution_count": 103,
   "id": "cab882d2",
   "metadata": {},
   "outputs": [
    {
     "name": "stdout",
     "output_type": "stream",
     "text": [
      "2"
     ]
    },
    {
     "data": {
      "text/plain": [
       "2"
      ]
     },
     "execution_count": 103,
     "metadata": {},
     "output_type": "execute_result"
    }
   ],
   "source": [
    "@gen function test(nn, input)\n",
    "    prob = nn(input)\n",
    "    obs_test = {:obs_test} ~ categorical(prob)\n",
    "    print(obs_test)\n",
    "    return obs_test\n",
    "end\n",
    "test(nn_initial,X_train[:,1])"
   ]
  },
  {
   "cell_type": "code",
   "execution_count": 71,
   "id": "71cf2ba2",
   "metadata": {},
   "outputs": [],
   "source": [
    "#multiclass classification:\n",
    "@gen function bayes_nn(xs, nparameters, reconstruct)\n",
    "    # Create the weight and bias vector.\n",
    "    parameters = Float32[]\n",
    "    for i=1:nparameters\n",
    "        push!(parameters, {(:parameters, i)} ~ normal(0,1))\n",
    "    end\n",
    "\n",
    "    # Construct NN from parameters\n",
    "    nn = reconstruct(parameters)\n",
    "    # Forward NN to make predictions\n",
    "    # Observe each prediction.\n",
    "    obs = Int64[]\n",
    "    for i=1:size(xs)[2]\n",
    "        #probs = convert(Vector{Float64}, nn(xs[:,i]))\n",
    "        prob = nn(xs[:,i])\n",
    "        observation = {(:obs, i)} ~ categorical(prob)\n",
    "        push!(obs, observation)\n",
    "    end\n",
    "    obs\n",
    "end;"
   ]
  },
  {
   "cell_type": "code",
   "execution_count": 224,
   "id": "22c362b8",
   "metadata": {},
   "outputs": [],
   "source": [
    "function make_constraints()\n",
    "    constraints = Gen.choicemap()\n",
    "    for i=1:size(X_train)[2]\n",
    "        constraints[(:obs, i)] = y_train[i]\n",
    "    end\n",
    "    constraints\n",
    "end\n",
    "\n",
    "function get_params_from_trace(trace, nb_params)\n",
    "    params = Float32[]\n",
    "    for i=1:nb_params\n",
    "        push!(params, trace[(:parameters,i)])\n",
    "    end\n",
    "    return params\n",
    "end\n",
    "\n",
    "observations = make_constraints();"
   ]
  },
  {
   "cell_type": "code",
   "execution_count": 107,
   "id": "9184cb4f",
   "metadata": {},
   "outputs": [],
   "source": [
    "# function do_inference(amount_of_computation, iter)\n",
    "#     (trace, _) = Gen.importance_resampling( bayes_nn,\n",
    "#                                             (X_train, nb_param, reconstruct),\n",
    "#                                             observations,\n",
    "#                                             amount_of_computation\n",
    "#                                             );\n",
    "#     println(iter)\n",
    "#     return trace\n",
    "# end"
   ]
  },
  {
   "cell_type": "code",
   "execution_count": 128,
   "id": "86f8ebfe",
   "metadata": {},
   "outputs": [],
   "source": [
    "function block_resimulation_update(tr)\n",
    "    for i=1:tr.args[2]\n",
    "        latent_variable = Gen.select((:parameters,i))\n",
    "        (tr, _) = mh(tr, latent_variable)\n",
    "    end\n",
    "    tr\n",
    "end\n",
    "\n",
    "function block_resimulation_inference(tr, n_samples)\n",
    "    trs = []\n",
    "    for iter=1:n_samples\n",
    "        tr = block_resimulation_update(tr)\n",
    "        trace_params = get_params_from_trace(tr, nb_param)\n",
    "        current_nn = tr.args[3](trace_params)\n",
    "        y_hat_pred = Int32[]\n",
    "        for i = 1:size(X_test)[2]\n",
    "            push!(y_hat_pred, argmax(current_nn(X_test[:,i])))\n",
    "        end\n",
    "\n",
    "        \n",
    "        println(\"Accuracy for current trace $(iter): $(mean(y_hat_pred .== y_test))\")\n",
    "        push!(trs, tr)\n",
    "    end\n",
    "    \n",
    "    trs\n",
    "end;"
   ]
  },
  {
   "cell_type": "code",
   "execution_count": 129,
   "id": "9c4b1b3b",
   "metadata": {},
   "outputs": [
    {
     "name": "stdout",
     "output_type": "stream",
     "text": [
      "Accuracy for current trace 1: 0.5666666666666667\n",
      "Accuracy for current trace 2: 0.9\n",
      "Accuracy for current trace 3: 0.9333333333333333\n",
      "Accuracy for current trace 4: 0.9333333333333333\n",
      "Accuracy for current trace 5: 0.9\n",
      "Accuracy for current trace 6: 0.9666666666666667\n",
      "Accuracy for current trace 7: 0.9666666666666667\n",
      "Accuracy for current trace 8: 1.0\n",
      "Accuracy for current trace 9: 1.0\n",
      "Accuracy for current trace 10: 0.9666666666666667\n"
     ]
    },
    {
     "data": {
      "text/plain": [
       "10-element Vector{Any}:\n",
       " Gen.DynamicDSLTrace{DynamicDSLFunction{Any}}(DynamicDSLFunction{Any}(Dict{Symbol, Any}(), Dict{Symbol, Any}(), Type[Any, Any, Any], false, Union{Nothing, Some{Any}}[nothing, nothing, nothing], var\"##bayes_nn#534\", Bool[0, 0, 0], false), Trie{Any, Gen.ChoiceOrCallRecord}(Dict{Any, Gen.ChoiceOrCallRecord}((:parameters, 114) => Gen.ChoiceOrCallRecord{Float64}(-1.779214352758611, -2.5017403897357946, NaN, true), (:parameters, 37) => Gen.ChoiceOrCallRecord{Float64}(-0.9012392855209004, -1.3250546580877842, NaN, true), (:parameters, 107) => Gen.ChoiceOrCallRecord{Float64}(-1.0506894552540147, -1.4709126988956618, NaN, true), (:obs, 51) => Gen.ChoiceOrCallRecord{Int64}(3, -0.0396010387122467, NaN, true), (:obs, 34) => Gen.ChoiceOrCallRecord{Int64}(1, -3.1406317522393983, NaN, true), (:obs, 53) => Gen.ChoiceOrCallRecord{Int64}(2, -0.3812016277210727, NaN, true), (:obs, 73) => Gen.ChoiceOrCallRecord{Int64}(1, -2.216166782509147, NaN, true), (:parameters, 30) => Gen.ChoiceOrCallRecord{Float64}(-1.437831890015055, -1.9526188051768054, NaN, true), (:obs, 9) => Gen.ChoiceOrCallRecord{Int64}(3, -0.4335971677619882, NaN, true), (:obs, 119) => Gen.ChoiceOrCallRecord{Int64}(2, -0.5558345157752436, NaN, true)…), Dict{Any, Trie{Any, Gen.ChoiceOrCallRecord}}()), false, -339.97674374173346, 0.0, ([5.0 6.8 … 6.0 6.3; 3.5 3.2 … 2.9 3.4; 1.6 5.9 … 4.5 5.6; 0.6 2.3 … 1.5 2.4], 131, Restructure(Chain, ..., 131)), [1, 3, 1, 2, 3, 1, 3, 1, 3, 2  …  2, 3, 3, 1, 1, 2, 3, 3, 2, 3])\n",
       " Gen.DynamicDSLTrace{DynamicDSLFunction{Any}}(DynamicDSLFunction{Any}(Dict{Symbol, Any}(), Dict{Symbol, Any}(), Type[Any, Any, Any], false, Union{Nothing, Some{Any}}[nothing, nothing, nothing], var\"##bayes_nn#534\", Bool[0, 0, 0], false), Trie{Any, Gen.ChoiceOrCallRecord}(Dict{Any, Gen.ChoiceOrCallRecord}((:parameters, 114) => Gen.ChoiceOrCallRecord{Float64}(0.8712387622212395, -1.2984670236030715, NaN, true), (:parameters, 37) => Gen.ChoiceOrCallRecord{Float64}(0.23896364869551245, -0.9474903459036088, NaN, true), (:parameters, 107) => Gen.ChoiceOrCallRecord{Float64}(1.2663238310484362, -1.7207265557452667, NaN, true), (:obs, 51) => Gen.ChoiceOrCallRecord{Int64}(3, -0.22212132599308526, NaN, true), (:obs, 34) => Gen.ChoiceOrCallRecord{Int64}(1, -0.09860010011465849, NaN, true), (:obs, 53) => Gen.ChoiceOrCallRecord{Int64}(2, -0.560777363222263, NaN, true), (:obs, 73) => Gen.ChoiceOrCallRecord{Int64}(1, -0.07523618965118616, NaN, true), (:parameters, 30) => Gen.ChoiceOrCallRecord{Float64}(-1.437831890015055, -1.9526188051768054, NaN, true), (:obs, 9) => Gen.ChoiceOrCallRecord{Int64}(3, -0.23795903048166983, NaN, true), (:obs, 119) => Gen.ChoiceOrCallRecord{Int64}(2, -0.773851020288574, NaN, true)…), Dict{Any, Trie{Any, Gen.ChoiceOrCallRecord}}()), false, -226.55326724908642, 0.0, ([5.0 6.8 … 6.0 6.3; 3.5 3.2 … 2.9 3.4; 1.6 5.9 … 4.5 5.6; 0.6 2.3 … 1.5 2.4], 131, Restructure(Chain, ..., 131)), [1, 3, 1, 2, 3, 1, 3, 1, 3, 2  …  2, 3, 3, 1, 1, 2, 3, 3, 2, 3])\n",
       " Gen.DynamicDSLTrace{DynamicDSLFunction{Any}}(DynamicDSLFunction{Any}(Dict{Symbol, Any}(), Dict{Symbol, Any}(), Type[Any, Any, Any], false, Union{Nothing, Some{Any}}[nothing, nothing, nothing], var\"##bayes_nn#534\", Bool[0, 0, 0], false), Trie{Any, Gen.ChoiceOrCallRecord}(Dict{Any, Gen.ChoiceOrCallRecord}((:parameters, 114) => Gen.ChoiceOrCallRecord{Float64}(0.04919393459439135, -0.9201485548051113, NaN, true), (:parameters, 37) => Gen.ChoiceOrCallRecord{Float64}(0.23896364869551245, -0.9474903459036088, NaN, true), (:parameters, 107) => Gen.ChoiceOrCallRecord{Float64}(-1.369266541028801, -1.856383963395161, NaN, true), (:obs, 51) => Gen.ChoiceOrCallRecord{Int64}(3, -0.06418130538611032, NaN, true), (:obs, 34) => Gen.ChoiceOrCallRecord{Int64}(1, -0.014125777777219918, NaN, true), (:obs, 53) => Gen.ChoiceOrCallRecord{Int64}(2, -0.3689109793053756, NaN, true), (:obs, 73) => Gen.ChoiceOrCallRecord{Int64}(1, -0.011477410654658906, NaN, true), (:parameters, 30) => Gen.ChoiceOrCallRecord{Float64}(-1.3540867657272924, -1.8357140177635722, NaN, true), (:obs, 9) => Gen.ChoiceOrCallRecord{Int64}(3, -0.22152692807898686, NaN, true), (:obs, 119) => Gen.ChoiceOrCallRecord{Int64}(2, -0.4724911499778028, NaN, true)…), Dict{Any, Trie{Any, Gen.ChoiceOrCallRecord}}()), false, -218.99233218389182, 0.0, ([5.0 6.8 … 6.0 6.3; 3.5 3.2 … 2.9 3.4; 1.6 5.9 … 4.5 5.6; 0.6 2.3 … 1.5 2.4], 131, Restructure(Chain, ..., 131)), [1, 3, 1, 2, 3, 1, 3, 1, 3, 2  …  2, 3, 3, 1, 1, 2, 3, 3, 2, 3])\n",
       " Gen.DynamicDSLTrace{DynamicDSLFunction{Any}}(DynamicDSLFunction{Any}(Dict{Symbol, Any}(), Dict{Symbol, Any}(), Type[Any, Any, Any], false, Union{Nothing, Some{Any}}[nothing, nothing, nothing], var\"##bayes_nn#534\", Bool[0, 0, 0], false), Trie{Any, Gen.ChoiceOrCallRecord}(Dict{Any, Gen.ChoiceOrCallRecord}((:parameters, 114) => Gen.ChoiceOrCallRecord{Float64}(0.691209431000143, -1.1578237719564433, NaN, true), (:parameters, 37) => Gen.ChoiceOrCallRecord{Float64}(0.23896364869551245, -0.9474903459036088, NaN, true), (:parameters, 107) => Gen.ChoiceOrCallRecord{Float64}(-0.5271858982616558, -1.0579010188676472, NaN, true), (:obs, 51) => Gen.ChoiceOrCallRecord{Int64}(3, -0.05019498276066429, NaN, true), (:obs, 34) => Gen.ChoiceOrCallRecord{Int64}(1, -0.008944641656713723, NaN, true), (:obs, 53) => Gen.ChoiceOrCallRecord{Int64}(2, -0.3517731821950865, NaN, true), (:obs, 73) => Gen.ChoiceOrCallRecord{Int64}(1, -0.007921488220553717, NaN, true), (:parameters, 30) => Gen.ChoiceOrCallRecord{Float64}(1.2048032687742736, -1.64471399142926, NaN, true), (:obs, 9) => Gen.ChoiceOrCallRecord{Int64}(3, -0.10296128878925867, NaN, true), (:obs, 119) => Gen.ChoiceOrCallRecord{Int64}(2, -0.742570494538688, NaN, true)…), Dict{Any, Trie{Any, Gen.ChoiceOrCallRecord}}()), false, -197.2627693833993, 0.0, ([5.0 6.8 … 6.0 6.3; 3.5 3.2 … 2.9 3.4; 1.6 5.9 … 4.5 5.6; 0.6 2.3 … 1.5 2.4], 131, Restructure(Chain, ..., 131)), [1, 3, 1, 2, 3, 1, 3, 1, 3, 2  …  2, 3, 3, 1, 1, 2, 3, 3, 2, 3])\n",
       " Gen.DynamicDSLTrace{DynamicDSLFunction{Any}}(DynamicDSLFunction{Any}(Dict{Symbol, Any}(), Dict{Symbol, Any}(), Type[Any, Any, Any], false, Union{Nothing, Some{Any}}[nothing, nothing, nothing], var\"##bayes_nn#534\", Bool[0, 0, 0], false), Trie{Any, Gen.ChoiceOrCallRecord}(Dict{Any, Gen.ChoiceOrCallRecord}((:parameters, 114) => Gen.ChoiceOrCallRecord{Float64}(-0.5203822509889415, -1.0543373767768316, NaN, true), (:parameters, 37) => Gen.ChoiceOrCallRecord{Float64}(0.23896364869551245, -0.9474903459036088, NaN, true), (:parameters, 107) => Gen.ChoiceOrCallRecord{Float64}(-0.48680516667409457, -1.037428168354969, NaN, true), (:obs, 51) => Gen.ChoiceOrCallRecord{Int64}(3, -0.12619058066385436, NaN, true), (:obs, 34) => Gen.ChoiceOrCallRecord{Int64}(1, -0.001312436125932829, NaN, true), (:obs, 53) => Gen.ChoiceOrCallRecord{Int64}(2, -0.377450965259936, NaN, true), (:obs, 73) => Gen.ChoiceOrCallRecord{Int64}(1, -0.001203247583203855, NaN, true), (:parameters, 30) => Gen.ChoiceOrCallRecord{Float64}(0.024811316655631074, -0.9192463339217657, NaN, true), (:obs, 9) => Gen.ChoiceOrCallRecord{Int64}(3, -0.19906709152833688, NaN, true), (:obs, 119) => Gen.ChoiceOrCallRecord{Int64}(2, -0.710628364539586, NaN, true)…), Dict{Any, Trie{Any, Gen.ChoiceOrCallRecord}}()), false, -204.4083087576269, 0.0, ([5.0 6.8 … 6.0 6.3; 3.5 3.2 … 2.9 3.4; 1.6 5.9 … 4.5 5.6; 0.6 2.3 … 1.5 2.4], 131, Restructure(Chain, ..., 131)), [1, 3, 1, 2, 3, 1, 3, 1, 3, 2  …  2, 3, 3, 1, 1, 2, 3, 3, 2, 3])\n",
       " Gen.DynamicDSLTrace{DynamicDSLFunction{Any}}(DynamicDSLFunction{Any}(Dict{Symbol, Any}(), Dict{Symbol, Any}(), Type[Any, Any, Any], false, Union{Nothing, Some{Any}}[nothing, nothing, nothing], var\"##bayes_nn#534\", Bool[0, 0, 0], false), Trie{Any, Gen.ChoiceOrCallRecord}(Dict{Any, Gen.ChoiceOrCallRecord}((:parameters, 114) => Gen.ChoiceOrCallRecord{Float64}(-0.18452167525840868, -0.9359626575247575, NaN, true), (:parameters, 37) => Gen.ChoiceOrCallRecord{Float64}(0.23896364869551245, -0.9474903459036088, NaN, true), (:parameters, 107) => Gen.ChoiceOrCallRecord{Float64}(-0.4980790060142979, -1.0429798813207682, NaN, true), (:obs, 51) => Gen.ChoiceOrCallRecord{Int64}(3, -0.15441419274855464, NaN, true), (:obs, 34) => Gen.ChoiceOrCallRecord{Int64}(1, -0.003363006646452968, NaN, true), (:obs, 53) => Gen.ChoiceOrCallRecord{Int64}(2, -0.20933813549114927, NaN, true), (:obs, 73) => Gen.ChoiceOrCallRecord{Int64}(1, -0.0018668862780950256, NaN, true), (:parameters, 30) => Gen.ChoiceOrCallRecord{Float64}(0.12307532844468536, -0.9265123014405563, NaN, true), (:obs, 9) => Gen.ChoiceOrCallRecord{Int64}(3, -0.25502579972666745, NaN, true), (:obs, 119) => Gen.ChoiceOrCallRecord{Int64}(2, -0.4067999446708986, NaN, true)…), Dict{Any, Trie{Any, Gen.ChoiceOrCallRecord}}()), false, -203.95558123665015, 0.0, ([5.0 6.8 … 6.0 6.3; 3.5 3.2 … 2.9 3.4; 1.6 5.9 … 4.5 5.6; 0.6 2.3 … 1.5 2.4], 131, Restructure(Chain, ..., 131)), [1, 3, 1, 2, 3, 1, 3, 1, 3, 2  …  2, 3, 3, 1, 1, 2, 3, 3, 2, 3])\n",
       " Gen.DynamicDSLTrace{DynamicDSLFunction{Any}}(DynamicDSLFunction{Any}(Dict{Symbol, Any}(), Dict{Symbol, Any}(), Type[Any, Any, Any], false, Union{Nothing, Some{Any}}[nothing, nothing, nothing], var\"##bayes_nn#534\", Bool[0, 0, 0], false), Trie{Any, Gen.ChoiceOrCallRecord}(Dict{Any, Gen.ChoiceOrCallRecord}((:parameters, 114) => Gen.ChoiceOrCallRecord{Float64}(-0.19536270786344384, -0.9380218270165414, NaN, true), (:parameters, 37) => Gen.ChoiceOrCallRecord{Float64}(-0.3788987401707764, -0.9907206608561734, NaN, true), (:parameters, 107) => Gen.ChoiceOrCallRecord{Float64}(1.1326487861603827, -1.5603851695999666, NaN, true), (:obs, 51) => Gen.ChoiceOrCallRecord{Int64}(3, -0.19405403875205368, NaN, true), (:obs, 34) => Gen.ChoiceOrCallRecord{Int64}(1, -0.002877648381697168, NaN, true), (:obs, 53) => Gen.ChoiceOrCallRecord{Int64}(2, -0.1712181504282375, NaN, true), (:obs, 73) => Gen.ChoiceOrCallRecord{Int64}(1, -0.0027364270913796274, NaN, true), (:parameters, 30) => Gen.ChoiceOrCallRecord{Float64}(0.11781475791851616, -0.9258786917963719, NaN, true), (:obs, 9) => Gen.ChoiceOrCallRecord{Int64}(3, -0.18783067111502413, NaN, true), (:obs, 119) => Gen.ChoiceOrCallRecord{Int64}(2, -0.3401392615836876, NaN, true)…), Dict{Any, Trie{Any, Gen.ChoiceOrCallRecord}}()), false, -208.744159415188, 0.0, ([5.0 6.8 … 6.0 6.3; 3.5 3.2 … 2.9 3.4; 1.6 5.9 … 4.5 5.6; 0.6 2.3 … 1.5 2.4], 131, Restructure(Chain, ..., 131)), [1, 3, 1, 2, 3, 1, 3, 1, 3, 2  …  2, 3, 3, 1, 1, 2, 3, 3, 2, 3])\n",
       " Gen.DynamicDSLTrace{DynamicDSLFunction{Any}}(DynamicDSLFunction{Any}(Dict{Symbol, Any}(), Dict{Symbol, Any}(), Type[Any, Any, Any], false, Union{Nothing, Some{Any}}[nothing, nothing, nothing], var\"##bayes_nn#534\", Bool[0, 0, 0], false), Trie{Any, Gen.ChoiceOrCallRecord}(Dict{Any, Gen.ChoiceOrCallRecord}((:parameters, 114) => Gen.ChoiceOrCallRecord{Float64}(-1.8503606734290687, -2.630855844091111, NaN, true), (:parameters, 37) => Gen.ChoiceOrCallRecord{Float64}(-0.3788987401707764, -0.9907206608561734, NaN, true), (:parameters, 107) => Gen.ChoiceOrCallRecord{Float64}(-0.03994047426932503, -0.919736153947102, NaN, true), (:obs, 51) => Gen.ChoiceOrCallRecord{Int64}(3, -0.28592067369766483, NaN, true), (:obs, 34) => Gen.ChoiceOrCallRecord{Int64}(1, -4.774948498987608e-6, NaN, true), (:obs, 53) => Gen.ChoiceOrCallRecord{Int64}(2, -0.1663704619538407, NaN, true), (:obs, 73) => Gen.ChoiceOrCallRecord{Int64}(1, -1.221767046313336e-5, NaN, true), (:parameters, 30) => Gen.ChoiceOrCallRecord{Float64}(-0.2220647057087077, -0.9435948999654201, NaN, true), (:obs, 9) => Gen.ChoiceOrCallRecord{Int64}(3, -0.24144099322935494, NaN, true), (:obs, 119) => Gen.ChoiceOrCallRecord{Int64}(2, -0.24687435159617407, NaN, true)…), Dict{Any, Trie{Any, Gen.ChoiceOrCallRecord}}()), false, -204.45929154094551, 0.0, ([5.0 6.8 … 6.0 6.3; 3.5 3.2 … 2.9 3.4; 1.6 5.9 … 4.5 5.6; 0.6 2.3 … 1.5 2.4], 131, Restructure(Chain, ..., 131)), [1, 3, 1, 2, 3, 1, 3, 1, 3, 2  …  2, 3, 3, 1, 1, 2, 3, 3, 2, 3])\n",
       " Gen.DynamicDSLTrace{DynamicDSLFunction{Any}}(DynamicDSLFunction{Any}(Dict{Symbol, Any}(), Dict{Symbol, Any}(), Type[Any, Any, Any], false, Union{Nothing, Some{Any}}[nothing, nothing, nothing], var\"##bayes_nn#534\", Bool[0, 0, 0], false), Trie{Any, Gen.ChoiceOrCallRecord}(Dict{Any, Gen.ChoiceOrCallRecord}((:parameters, 114) => Gen.ChoiceOrCallRecord{Float64}(-1.442578098117459, -1.959454317788765, NaN, true), (:parameters, 37) => Gen.ChoiceOrCallRecord{Float64}(-0.015123675449327703, -0.919052895984221, NaN, true), (:parameters, 107) => Gen.ChoiceOrCallRecord{Float64}(-0.6201982993928105, -1.1112614984895397, NaN, true), (:obs, 51) => Gen.ChoiceOrCallRecord{Int64}(3, -0.27991694426587954, NaN, true), (:obs, 34) => Gen.ChoiceOrCallRecord{Int64}(1, -0.02655019318518709, NaN, true), (:obs, 53) => Gen.ChoiceOrCallRecord{Int64}(2, -0.1709179242373916, NaN, true), (:obs, 73) => Gen.ChoiceOrCallRecord{Int64}(1, -0.020671491890065577, NaN, true), (:parameters, 30) => Gen.ChoiceOrCallRecord{Float64}(-0.3599651271102092, -0.9837259795724071, NaN, true), (:obs, 9) => Gen.ChoiceOrCallRecord{Int64}(3, -0.23522030242046796, NaN, true), (:obs, 119) => Gen.ChoiceOrCallRecord{Int64}(2, -0.2801694349637475, NaN, true)…), Dict{Any, Trie{Any, Gen.ChoiceOrCallRecord}}()), false, -191.2989070310861, 0.0, ([5.0 6.8 … 6.0 6.3; 3.5 3.2 … 2.9 3.4; 1.6 5.9 … 4.5 5.6; 0.6 2.3 … 1.5 2.4], 131, Restructure(Chain, ..., 131)), [1, 3, 1, 2, 3, 1, 3, 1, 3, 2  …  2, 3, 3, 1, 1, 2, 3, 3, 2, 3])\n",
       " Gen.DynamicDSLTrace{DynamicDSLFunction{Any}}(DynamicDSLFunction{Any}(Dict{Symbol, Any}(), Dict{Symbol, Any}(), Type[Any, Any, Any], false, Union{Nothing, Some{Any}}[nothing, nothing, nothing], var\"##bayes_nn#534\", Bool[0, 0, 0], false), Trie{Any, Gen.ChoiceOrCallRecord}(Dict{Any, Gen.ChoiceOrCallRecord}((:parameters, 114) => Gen.ChoiceOrCallRecord{Float64}(0.2667285103840541, -0.9545105823305209, NaN, true), (:parameters, 37) => Gen.ChoiceOrCallRecord{Float64}(-0.015123675449327703, -0.919052895984221, NaN, true), (:parameters, 107) => Gen.ChoiceOrCallRecord{Float64}(0.5573212913870251, -1.0742420441213234, NaN, true), (:obs, 51) => Gen.ChoiceOrCallRecord{Int64}(3, -0.14939907960558674, NaN, true), (:obs, 34) => Gen.ChoiceOrCallRecord{Int64}(1, -0.0008491951845817084, NaN, true), (:obs, 53) => Gen.ChoiceOrCallRecord{Int64}(2, -0.2565930340662676, NaN, true), (:obs, 73) => Gen.ChoiceOrCallRecord{Int64}(1, -0.000748503104035404, NaN, true), (:parameters, 30) => Gen.ChoiceOrCallRecord{Float64}(-0.3599651271102092, -0.9837259795724071, NaN, true), (:obs, 9) => Gen.ChoiceOrCallRecord{Int64}(3, -0.12449537382274306, NaN, true), (:obs, 119) => Gen.ChoiceOrCallRecord{Int64}(2, -0.4026430564071571, NaN, true)…), Dict{Any, Trie{Any, Gen.ChoiceOrCallRecord}}()), false, -189.4613779376757, 0.0, ([5.0 6.8 … 6.0 6.3; 3.5 3.2 … 2.9 3.4; 1.6 5.9 … 4.5 5.6; 0.6 2.3 … 1.5 2.4], 131, Restructure(Chain, ..., 131)), [1, 3, 1, 2, 3, 1, 3, 1, 3, 2  …  2, 3, 3, 1, 1, 2, 3, 3, 2, 3])"
      ]
     },
     "execution_count": 129,
     "metadata": {},
     "output_type": "execute_result"
    }
   ],
   "source": [
    "(trace, _) = Gen.generate(bayes_nn, (X_train, nb_param, reconstruct), observations);\n",
    "trs = block_resimulation_inference(trace, 10)"
   ]
  },
  {
   "cell_type": "code",
   "execution_count": null,
   "id": "571f6aab",
   "metadata": {},
   "outputs": [],
   "source": [
    "X=X'"
   ]
  },
  {
   "cell_type": "code",
   "execution_count": 213,
   "id": "d8856fa9",
   "metadata": {},
   "outputs": [
    {
     "data": {
      "text/plain": [
       "Chain(\n",
       "  Dense(4 => 16, relu),                 \u001b[90m# 80 parameters\u001b[39m\n",
       "  Dense(16 => 3),                       \u001b[90m# 51 parameters\u001b[39m\n",
       "  NNlib.softmax,\n",
       ") \u001b[90m                  # Total: 4 arrays, \u001b[39m131 parameters, 780 bytes."
      ]
     },
     "execution_count": 213,
     "metadata": {},
     "output_type": "execute_result"
    }
   ],
   "source": [
    "#argmax(nn_initial(X),dims=1)\n",
    "model = Chain(\n",
    "    Dense(4, 16, relu),\n",
    "    Dense(16, 3),\n",
    "    softmax\n",
    ")"
   ]
  },
  {
   "cell_type": "code",
   "execution_count": 214,
   "id": "33787d76",
   "metadata": {},
   "outputs": [
    {
     "data": {
      "text/plain": [
       "3×30 OneHotMatrix(::Vector{UInt32}) with eltype Bool:\n",
       " ⋅  ⋅  1  ⋅  1  ⋅  ⋅  1  1  1  ⋅  ⋅  ⋅  …  ⋅  ⋅  ⋅  ⋅  1  ⋅  1  ⋅  ⋅  ⋅  1  ⋅\n",
       " 1  1  ⋅  1  ⋅  1  ⋅  ⋅  ⋅  ⋅  ⋅  1  1     1  ⋅  ⋅  ⋅  ⋅  ⋅  ⋅  1  1  1  ⋅  1\n",
       " ⋅  ⋅  ⋅  ⋅  ⋅  ⋅  1  ⋅  ⋅  ⋅  1  ⋅  ⋅     ⋅  1  1  1  ⋅  1  ⋅  ⋅  ⋅  ⋅  ⋅  ⋅"
      ]
     },
     "execution_count": 214,
     "metadata": {},
     "output_type": "execute_result"
    }
   ],
   "source": [
    "y_train_encoded = onehotbatch(y_train, 1:3)\n",
    "\n",
    "y_test_encoded = onehotbatch(y_test, 1:3)"
   ]
  },
  {
   "cell_type": "code",
   "execution_count": 215,
   "id": "81c15f2e",
   "metadata": {},
   "outputs": [
    {
     "data": {
      "text/plain": [
       "Adam(0.009999999776482582, (0.9, 0.999), 1.0e-8, IdDict{Any, Any}())"
      ]
     },
     "execution_count": 215,
     "metadata": {},
     "output_type": "execute_result"
    }
   ],
   "source": [
    "# define loss function\n",
    "loss(x, y) = crossentropy(model(x), y)\n",
    "\n",
    "# track parameters\n",
    "ps = params(model)\n",
    "\n",
    "# select optimizer\n",
    "learning_rate = Float32(0.01)\n",
    "\n",
    "opt = Flux.Adam(learning_rate)"
   ]
  },
  {
   "cell_type": "code",
   "execution_count": 216,
   "id": "aa682a85",
   "metadata": {},
   "outputs": [
    {
     "name": "stdout",
     "output_type": "stream",
     "text": [
      "Accuracy epoch 1: 0.1\n",
      "Accuracy epoch 2: 0.3333333333333333\n",
      "Accuracy epoch 3: 0.36666666666666664\n",
      "Accuracy epoch 4: 0.3333333333333333\n",
      "Accuracy epoch 5: 0.3\n",
      "Accuracy epoch 6: 0.3\n",
      "Accuracy epoch 7: 0.3\n",
      "Accuracy epoch 8: 0.3\n",
      "Accuracy epoch 9: 0.3333333333333333\n",
      "Accuracy epoch 10: 0.6\n",
      "Accuracy epoch 11: 0.6333333333333333\n",
      "Accuracy epoch 12: 0.6333333333333333\n",
      "Accuracy epoch 13: 0.6333333333333333\n",
      "Accuracy epoch 14: 0.6\n",
      "Accuracy epoch 15: 0.6333333333333333\n",
      "Accuracy epoch 16: 0.7\n",
      "Accuracy epoch 17: 0.7\n",
      "Accuracy epoch 18: 0.7\n",
      "Accuracy epoch 19: 0.7\n",
      "Accuracy epoch 20: 0.7\n",
      "Accuracy epoch 21: 0.7\n",
      "Accuracy epoch 22: 0.6666666666666666\n",
      "Accuracy epoch 23: 0.6\n",
      "Accuracy epoch 24: 0.6333333333333333\n",
      "Accuracy epoch 25: 0.6333333333333333\n",
      "Accuracy epoch 26: 0.6333333333333333\n",
      "Accuracy epoch 27: 0.6333333333333333\n",
      "Accuracy epoch 28: 0.6333333333333333\n",
      "Accuracy epoch 29: 0.6333333333333333\n",
      "Accuracy epoch 30: 0.6333333333333333\n",
      "Accuracy epoch 31: 0.6333333333333333\n",
      "Accuracy epoch 32: 0.6333333333333333\n",
      "Accuracy epoch 33: 0.6333333333333333\n",
      "Accuracy epoch 34: 0.7\n",
      "Accuracy epoch 35: 0.7333333333333333\n",
      "Accuracy epoch 36: 0.8\n",
      "Accuracy epoch 37: 0.8333333333333334\n",
      "Accuracy epoch 38: 0.8\n",
      "Accuracy epoch 39: 0.7666666666666667\n",
      "Accuracy epoch 40: 0.7\n",
      "Accuracy epoch 41: 0.7\n",
      "Accuracy epoch 42: 0.7\n",
      "Accuracy epoch 43: 0.7\n",
      "Accuracy epoch 44: 0.7\n",
      "Accuracy epoch 45: 0.7\n",
      "Accuracy epoch 46: 0.7333333333333333\n",
      "Accuracy epoch 47: 0.8\n",
      "Accuracy epoch 48: 0.8666666666666667\n",
      "Accuracy epoch 49: 0.9\n",
      "Accuracy epoch 50: 0.9\n",
      "Accuracy epoch 51: 0.9\n",
      "Accuracy epoch 52: 0.9\n",
      "Accuracy epoch 53: 0.9\n",
      "Accuracy epoch 54: 0.9\n",
      "Accuracy epoch 55: 0.9\n",
      "Accuracy epoch 56: 0.9\n",
      "Accuracy epoch 57: 0.9\n",
      "Accuracy epoch 58: 0.9\n",
      "Accuracy epoch 59: 0.9\n",
      "Accuracy epoch 60: 0.9\n",
      "Accuracy epoch 61: 0.9\n",
      "Accuracy epoch 62: 0.9\n",
      "Accuracy epoch 63: 0.9\n",
      "Accuracy epoch 64: 0.9\n",
      "Accuracy epoch 65: 0.9666666666666667\n",
      "Accuracy epoch 66: 0.9666666666666667\n",
      "Accuracy epoch 67: 0.9666666666666667\n",
      "Accuracy epoch 68: 0.9666666666666667\n",
      "Accuracy epoch 69: 0.9666666666666667\n",
      "Accuracy epoch 70: 0.9333333333333333\n",
      "Accuracy epoch 71: 0.9333333333333333\n",
      "Accuracy epoch 72: 0.9333333333333333\n",
      "Accuracy epoch 73: 0.9666666666666667\n",
      "Accuracy epoch 74: 0.9666666666666667\n",
      "Accuracy epoch 75: 0.9666666666666667\n",
      "Accuracy epoch 76: 0.9666666666666667\n",
      "Accuracy epoch 77: 0.9666666666666667\n",
      "Accuracy epoch 78: 0.9666666666666667\n",
      "Accuracy epoch 79: 0.9666666666666667\n",
      "Accuracy epoch 80: 0.9666666666666667\n",
      "Accuracy epoch 81: 0.9666666666666667\n",
      "Accuracy epoch 82: 0.9666666666666667\n",
      "Accuracy epoch 83: 0.9666666666666667\n",
      "Accuracy epoch 84: 0.9666666666666667\n",
      "Accuracy epoch 85: 0.9666666666666667\n",
      "Accuracy epoch 86: 0.9666666666666667\n",
      "Accuracy epoch 87: 0.9666666666666667\n",
      "Accuracy epoch 88: 0.9666666666666667\n",
      "Accuracy epoch 89: 0.9666666666666667\n",
      "Accuracy epoch 90: 0.9666666666666667\n",
      "Accuracy epoch 91: 0.9666666666666667\n",
      "Accuracy epoch 92: 0.9666666666666667\n",
      "Accuracy epoch 93: 0.9666666666666667\n",
      "Accuracy epoch 94: 0.9666666666666667\n",
      "Accuracy epoch 95: 0.9666666666666667\n",
      "Accuracy epoch 96: 0.9666666666666667\n",
      "Accuracy epoch 97: 0.9666666666666667\n",
      "Accuracy epoch 98: 0.9666666666666667\n",
      "Accuracy epoch 99: 0.9666666666666667\n",
      "Accuracy epoch 100: 1.0\n"
     ]
    }
   ],
   "source": [
    "# train model\n",
    "\n",
    "loss_history = []\n",
    "\n",
    "epochs = 100\n",
    "\n",
    "for epoch in 1:epochs\n",
    "    # train model\n",
    "    Flux.train!(loss, ps, [(X_train, y_train_encoded)], opt)\n",
    "    # print report\n",
    "    train_loss = loss(X_train, y_train_encoded)\n",
    "    push!(loss_history, train_loss)\n",
    "    \n",
    "    \n",
    "    y_hat_pred = Int32[]\n",
    "    for i = 1:size(X_test)[2]\n",
    "        push!(y_hat_pred, argmax(model(X_test[:,i])))\n",
    "    end\n",
    "    println(\"Accuracy epoch $(epoch): $(mean(y_hat_pred .== y_test))\")\n",
    "    #println(\"Epoch = $epoch : Training Loss = $train_loss\")\n",
    "end"
   ]
  },
  {
   "cell_type": "code",
   "execution_count": 205,
   "id": "f83dc99f",
   "metadata": {},
   "outputs": [
    {
     "name": "stdout",
     "output_type": "stream",
     "text": [
      "Accuracy: 0.9666666666666667\n"
     ]
    }
   ],
   "source": [
    "# make predictions\n",
    "y_hat_pred = Int32[]\n",
    "for i = 1:size(X_test)[2]\n",
    "    push!(y_hat_pred, argmax(model(X_test[:,i])))\n",
    "end\n",
    "println(\"Accuracy: $(mean(y_hat_pred .== y_test))\")"
   ]
  },
  {
   "cell_type": "code",
   "execution_count": 14,
   "id": "61694ab6",
   "metadata": {},
   "outputs": [
    {
     "data": {
      "text/plain": [
       "0.9597"
      ]
     },
     "execution_count": 14,
     "metadata": {},
     "output_type": "execute_result"
    }
   ],
   "source": [
    "# make predictions\n",
    "\n",
    "y_hat_raw = model(X_test)\n",
    "\n",
    "y_hat = onecold(y_hat_raw) .- 1\n",
    "\n",
    "y = y_test_raw\n",
    "\n",
    "mean(y_hat .== y)\n"
   ]
  },
  {
   "cell_type": "code",
   "execution_count": 206,
   "id": "b05d66fa",
   "metadata": {},
   "outputs": [
    {
     "data": {
      "text/plain": [
       "\"C:\\\\Facultate\\\\Master\\\\An 1\\\\Sem1\\\\Probabilistic Programming\\\\Project 2\\\\ann_learning_curve.svg\""
      ]
     },
     "execution_count": 206,
     "metadata": {},
     "output_type": "execute_result"
    }
   ],
   "source": [
    "# initialize plot\n",
    "\n",
    "gr(size = (600, 600))\n",
    "\n",
    "# plot learning curve\n",
    "\n",
    "p_l_curve = plot(1:epochs, loss_history,\n",
    "    xlabel = \"Epochs\",\n",
    "    ylabel = \"Loss\",\n",
    "    title = \"Learning Curve\",\n",
    "    legend = false,\n",
    "    color = :blue,\n",
    "    linewidth = 2\n",
    ")\n",
    "\n",
    "# save plot\n",
    "\n",
    "savefig(p_l_curve, \"ann_learning_curve.svg\")"
   ]
  },
  {
   "cell_type": "code",
   "execution_count": null,
   "id": "684965cc",
   "metadata": {},
   "outputs": [],
   "source": []
  }
 ],
 "metadata": {
  "kernelspec": {
   "display_name": "Julia 1.8.5",
   "language": "julia",
   "name": "julia-1.8"
  },
  "language_info": {
   "file_extension": ".jl",
   "mimetype": "application/julia",
   "name": "julia",
   "version": "1.8.5"
  }
 },
 "nbformat": 4,
 "nbformat_minor": 5
}
